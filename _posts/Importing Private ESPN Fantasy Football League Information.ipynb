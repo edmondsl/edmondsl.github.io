{
 "cells": [
  {
   "cell_type": "markdown",
   "id": "ad30fb7b",
   "metadata": {},
   "source": [
    "## Importing Private FF league info from ESPN\n",
    "\n",
    "Code to import information from a private fanatast football league hosted in ESPN."
   ]
  },
  {
   "cell_type": "code",
   "execution_count": null,
   "id": "54667af3",
   "metadata": {},
   "outputs": [],
   "source": [
    "# install the ff_espn_api\n",
    "pip install ff_espn_api"
   ]
  },
  {
   "cell_type": "code",
   "execution_count": null,
   "id": "38330457",
   "metadata": {},
   "outputs": [],
   "source": [
    "# import pandas as pd\n",
    "import pandas as pd"
   ]
  },
  {
   "cell_type": "code",
   "execution_count": null,
   "id": "c5e84d25",
   "metadata": {},
   "outputs": [],
   "source": [
    "years = [2017, 2018, 2019, 2020, 2021] # years variable\n",
    "league_dict = {} # a league dictionary\n",
    "for x in years:\n",
    "    \n",
    "    # Creating key name for dict\n",
    "    key_name = 'league_'+str(x)  \n",
    "    \n",
    "    #ESPN API\n",
    "    from ff_espn_api import League\n",
    "    league_id =  #your league_id\n",
    "    year = x\n",
    "    swid = '{}' #your swid\n",
    "    espn_s2 = '' #your espn_s2\n",
    "    league = League(league_id, year, espn_s2, swid)\n",
    "    \n",
    "    # get a list of columns for our dataframe\n",
    "    df_columns = list(league.teams[0].__dict__.keys())\n",
    "\n",
    "    # remove roster from list of columns\n",
    "    df_columns.remove('roster')\n",
    "    \n",
    "    # append teams to dataframe\n",
    "    league_temp = pd.DataFrame()\n",
    "    for d in range(len(league.teams)):\n",
    "        team_df = pd.DataFrame(league.teams[d].__dict__, columns=df_columns)\n",
    "        league_temp = league_temp.append(team_df)\n",
    "        \n",
    "    # number of rows\n",
    "    n_rows = len(league_temp.index)\n",
    "        \n",
    "    # change the index to 'week'\n",
    "    league_temp.index.names = ['week']\n",
    "\n",
    "    # add 'week' column\n",
    "    league_temp.reset_index(level='week', inplace=True)\n",
    "\n",
    "    # add +1 to every week\n",
    "    league_temp['week'] = league_temp['week'].apply(lambda x: x + 1)\n",
    "    \n",
    "    # add year column\n",
    "    year = [x]*n_rows\n",
    "    league_temp['year'] = year\n",
    "    \n",
    "    \n",
    "    # drop unecessary columns\n",
    "    league_temp = league_temp.drop(['division_id', 'team_abbrev',\n",
    "                               'streak_length', 'streak_type', 'logo_url', 'standing',\n",
    "                              'outcomes'], axis=1)\n",
    "    \n",
    "    league_dict[key_name] = league_temp"
   ]
  }
 ],
 "metadata": {
  "kernelspec": {
   "display_name": "Python 3",
   "language": "python",
   "name": "python3"
  },
  "language_info": {
   "codemirror_mode": {
    "name": "ipython",
    "version": 3
   },
   "file_extension": ".py",
   "mimetype": "text/x-python",
   "name": "python",
   "nbconvert_exporter": "python",
   "pygments_lexer": "ipython3",
   "version": "3.8.8"
  }
 },
 "nbformat": 4,
 "nbformat_minor": 5
}
